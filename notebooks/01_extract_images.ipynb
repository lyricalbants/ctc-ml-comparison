{
 "cells": [
  {
   "cell_type": "markdown",
   "metadata": {},
   "source": [
    "## Data Acquisition"
   ]
  },
  {
   "cell_type": "code",
   "execution_count": 13,
   "metadata": {},
   "outputs": [],
   "source": [
    "import fitz\n",
    "doc = fitz.open(\"s41598-020-69056-1.pdf\")\n",
    "for i in range(1, len(doc)):\n",
    "    for img in doc.get_page_images(i):\n",
    "        xref = img[0]\n",
    "        pix = fitz.Pixmap(doc, xref)\n",
    "        if pix.n > 3:\n",
    "            pix = fitz.Pixmap(fitz.csRGB, pix)\n",
    "        \n",
    "        pix.save(f\"../data/raw/figure{i}.png\")\n"
   ]
  },
  {
   "cell_type": "code",
   "execution_count": null,
   "metadata": {},
   "outputs": [],
   "source": []
  }
 ],
 "metadata": {
  "kernelspec": {
   "display_name": "tf_env",
   "language": "python",
   "name": "python3"
  },
  "language_info": {
   "codemirror_mode": {
    "name": "ipython",
    "version": 3
   },
   "file_extension": ".py",
   "mimetype": "text/x-python",
   "name": "python",
   "nbconvert_exporter": "python",
   "pygments_lexer": "ipython3",
   "version": "3.9.21"
  }
 },
 "nbformat": 4,
 "nbformat_minor": 2
}
